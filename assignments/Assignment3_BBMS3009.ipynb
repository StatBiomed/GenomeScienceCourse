{
 "cells": [
  {
   "cell_type": "markdown",
   "metadata": {},
   "source": [
    "# Assignment 1 for Genome Science (BBMS3009)\n",
    "This assignment aims to understand the normalization of RNA-seq count data and the basics of the statistical tests behind Differential Gene expression detection."
   ]
  },
  {
   "cell_type": "markdown",
   "metadata": {},
   "source": [
    "**Top note**\n",
    "\n",
    "You can run this notebook on one of these three options\n",
    "1. colab cloud computing by using [this link](https://colab.fan/StatBiomed/GenomeScienceCourse/assignments/Assignment1_BBMS3009.ipynb) (suggested)\n",
    "2. local R studio (use the [Assignment1_BBMS3009.Rmd](./Assignment1_BBMS3009.Rmd) notebook) \n",
    "3. local jupyter lab with R environment via conda (multiple steps required).\n",
    "\n",
    "**Running time**\n",
    "\n",
    "* `DESeq2` installation: ~10min\n",
    "* Running the whole notebook: ~5min"
   ]
  },
  {
   "cell_type": "markdown",
   "metadata": {},
   "source": [
    "**Main reference**:\n",
    "* [Chapter 8 in Modern Statistics for Modern Biology](https://web.stanford.edu/class/bios221/book/Chap-CountData.html)\n",
    "* [Chapter 8 in Computational Genomics with R](http://compgenomr.github.io/book/rnaseqanalysis.html)\n"
   ]
  },
  {
   "cell_type": "markdown",
   "metadata": {
    "id": "ttWE4X4ChdLf"
   },
   "source": [
    "## Part 0. Environment setting\n",
    "Installing the DESeq2 package for loading data (only need once)"
   ]
  },
  {
   "cell_type": "code",
   "execution_count": null,
   "metadata": {
    "colab": {
     "base_uri": "https://localhost:8080/",
     "height": 326
    },
    "id": "kyoSlllOhFCD",
    "outputId": "aa597434-594c-46e4-cb1c-352d7f67f033"
   },
   "outputs": [],
   "source": [
    "if (!requireNamespace(\"BiocManager\", quietly = TRUE))\n",
    "    install.packages(\"BiocManager\")\n",
    "\n",
    "BiocManager::install(\"DESeq2\")"
   ]
  },
  {
   "cell_type": "markdown",
   "metadata": {
    "id": "QbyaNsx44jkH"
   },
   "source": [
    "## Part 1. Load data"
   ]
  },
  {
   "cell_type": "markdown",
   "metadata": {
    "id": "5zFpCv8p4nnQ"
   },
   "source": [
    "#### Load count matrix\n",
    "gene-by-sample, with additional column for gene length"
   ]
  },
  {
   "cell_type": "code",
   "execution_count": 1,
   "metadata": {
    "id": "1DkkOwNzyIu2"
   },
   "outputs": [],
   "source": [
    "counts_url <- 'https://raw.github.com/compgenomr/compGenomRData/master/inst/extdata/rna-seq/SRP029880.raw_counts.tsv'\n",
    "\n",
    "counts <- as.matrix(read.csv(counts_url, header = T, sep = '\\t'))"
   ]
  },
  {
   "cell_type": "code",
   "execution_count": 2,
   "metadata": {
    "colab": {
     "base_uri": "https://localhost:8080/",
     "height": 51
    },
    "id": "5K_dP4IxRT3x",
    "outputId": "ab38a8e8-d4c6-45e7-9dea-bacd505d7074"
   },
   "outputs": [
    {
     "data": {
      "text/html": [
       "<style>\n",
       ".list-inline {list-style: none; margin:0; padding: 0}\n",
       ".list-inline>li {display: inline-block}\n",
       ".list-inline>li:not(:last-child)::after {content: \"\\00b7\"; padding: 0 .5ex}\n",
       "</style>\n",
       "<ol class=list-inline><li>19719</li><li>11</li></ol>\n"
      ],
      "text/latex": [
       "\\begin{enumerate*}\n",
       "\\item 19719\n",
       "\\item 11\n",
       "\\end{enumerate*}\n"
      ],
      "text/markdown": [
       "1. 19719\n",
       "2. 11\n",
       "\n",
       "\n"
      ],
      "text/plain": [
       "[1] 19719    11"
      ]
     },
     "metadata": {},
     "output_type": "display_data"
    },
    {
     "data": {
      "text/html": [
       "<style>\n",
       ".list-inline {list-style: none; margin:0; padding: 0}\n",
       ".list-inline>li {display: inline-block}\n",
       ".list-inline>li:not(:last-child)::after {content: \"\\00b7\"; padding: 0 .5ex}\n",
       "</style>\n",
       "<ol class=list-inline><li>'CASE_1'</li><li>'CASE_2'</li><li>'CASE_3'</li><li>'CASE_4'</li><li>'CASE_5'</li><li>'CTRL_1'</li><li>'CTRL_2'</li><li>'CTRL_3'</li><li>'CTRL_4'</li><li>'CTRL_5'</li><li>'width'</li></ol>\n"
      ],
      "text/latex": [
       "\\begin{enumerate*}\n",
       "\\item 'CASE\\_1'\n",
       "\\item 'CASE\\_2'\n",
       "\\item 'CASE\\_3'\n",
       "\\item 'CASE\\_4'\n",
       "\\item 'CASE\\_5'\n",
       "\\item 'CTRL\\_1'\n",
       "\\item 'CTRL\\_2'\n",
       "\\item 'CTRL\\_3'\n",
       "\\item 'CTRL\\_4'\n",
       "\\item 'CTRL\\_5'\n",
       "\\item 'width'\n",
       "\\end{enumerate*}\n"
      ],
      "text/markdown": [
       "1. 'CASE_1'\n",
       "2. 'CASE_2'\n",
       "3. 'CASE_3'\n",
       "4. 'CASE_4'\n",
       "5. 'CASE_5'\n",
       "6. 'CTRL_1'\n",
       "7. 'CTRL_2'\n",
       "8. 'CTRL_3'\n",
       "9. 'CTRL_4'\n",
       "10. 'CTRL_5'\n",
       "11. 'width'\n",
       "\n",
       "\n"
      ],
      "text/plain": [
       " [1] \"CASE_1\" \"CASE_2\" \"CASE_3\" \"CASE_4\" \"CASE_5\" \"CTRL_1\" \"CTRL_2\" \"CTRL_3\"\n",
       " [9] \"CTRL_4\" \"CTRL_5\" \"width\" "
      ]
     },
     "metadata": {},
     "output_type": "display_data"
    }
   ],
   "source": [
    "dim(counts)\n",
    "colnames(counts)"
   ]
  },
  {
   "cell_type": "code",
   "execution_count": 3,
   "metadata": {
    "colab": {
     "base_uri": "https://localhost:8080/",
     "height": 136
    },
    "id": "caPggSEhRU21",
    "outputId": "d388ac1e-5217-4f7c-f6cb-7db678e07abb"
   },
   "outputs": [
    {
     "data": {
      "text/plain": [
       "     CASE_1              CASE_2              CASE_3         \n",
       " Min.   :        0   Min.   :        0   Min.   :        0  \n",
       " 1st Qu.:     5155   1st Qu.:     6464   1st Qu.:     3972  \n",
       " Median :    80023   Median :    85064   Median :    64145  \n",
       " Mean   :   295932   Mean   :   273099   Mean   :   263045  \n",
       " 3rd Qu.:   252164   3rd Qu.:   245484   3rd Qu.:   210788  \n",
       " Max.   :205067466   Max.   :105248041   Max.   :222511278  "
      ]
     },
     "metadata": {},
     "output_type": "display_data"
    }
   ],
   "source": [
    "summary(counts[,1:3])"
   ]
  },
  {
   "cell_type": "markdown",
   "metadata": {
    "id": "iUZXLXff42_F"
   },
   "source": [
    "#### Load colData for sample information"
   ]
  },
  {
   "cell_type": "code",
   "execution_count": 4,
   "metadata": {
    "id": "lgo9RR3xRWEe"
   },
   "outputs": [],
   "source": [
    "coldata_url <- 'https://raw.github.com/compgenomr/compGenomRData/master/inst/extdata/rna-seq/SRP029880.colData.tsv'\n",
    "\n",
    "col_data <- read.table(coldata_url, header = T, sep = '\\t', stringsAsFactors = TRUE)"
   ]
  },
  {
   "cell_type": "code",
   "execution_count": 5,
   "metadata": {
    "colab": {
     "base_uri": "https://localhost:8080/",
     "height": 288
    },
    "id": "PmRDoQrNzKXg",
    "outputId": "2de396cc-dc50-41f6-e38c-facbd24b7784"
   },
   "outputs": [
    {
     "data": {
      "text/html": [
       "<table>\n",
       "<caption>A data.frame: 10 x 2</caption>\n",
       "<thead>\n",
       "\t<tr><th></th><th scope=col>source_name</th><th scope=col>group</th></tr>\n",
       "\t<tr><th></th><th scope=col>&lt;fct&gt;</th><th scope=col>&lt;fct&gt;</th></tr>\n",
       "</thead>\n",
       "<tbody>\n",
       "\t<tr><th scope=row>CASE_1</th><td>metastasized cancer</td><td>CASE</td></tr>\n",
       "\t<tr><th scope=row>CASE_2</th><td>metastasized cancer</td><td>CASE</td></tr>\n",
       "\t<tr><th scope=row>CASE_3</th><td>metastasized cancer</td><td>CASE</td></tr>\n",
       "\t<tr><th scope=row>CASE_4</th><td>metastasized cancer</td><td>CASE</td></tr>\n",
       "\t<tr><th scope=row>CASE_5</th><td>metastasized cancer</td><td>CASE</td></tr>\n",
       "\t<tr><th scope=row>CTRL_1</th><td>normal colon       </td><td>CTRL</td></tr>\n",
       "\t<tr><th scope=row>CTRL_2</th><td>normal colon       </td><td>CTRL</td></tr>\n",
       "\t<tr><th scope=row>CTRL_3</th><td>normal colon       </td><td>CTRL</td></tr>\n",
       "\t<tr><th scope=row>CTRL_4</th><td>normal colon       </td><td>CTRL</td></tr>\n",
       "\t<tr><th scope=row>CTRL_5</th><td>normal colon       </td><td>CTRL</td></tr>\n",
       "</tbody>\n",
       "</table>\n"
      ],
      "text/latex": [
       "A data.frame: 10 x 2\n",
       "\\begin{tabular}{r|ll}\n",
       "  & source\\_name & group\\\\\n",
       "  & <fct> & <fct>\\\\\n",
       "\\hline\n",
       "\tCASE\\_1 & metastasized cancer & CASE\\\\\n",
       "\tCASE\\_2 & metastasized cancer & CASE\\\\\n",
       "\tCASE\\_3 & metastasized cancer & CASE\\\\\n",
       "\tCASE\\_4 & metastasized cancer & CASE\\\\\n",
       "\tCASE\\_5 & metastasized cancer & CASE\\\\\n",
       "\tCTRL\\_1 & normal colon        & CTRL\\\\\n",
       "\tCTRL\\_2 & normal colon        & CTRL\\\\\n",
       "\tCTRL\\_3 & normal colon        & CTRL\\\\\n",
       "\tCTRL\\_4 & normal colon        & CTRL\\\\\n",
       "\tCTRL\\_5 & normal colon        & CTRL\\\\\n",
       "\\end{tabular}\n"
      ],
      "text/markdown": [
       "\n",
       "A data.frame: 10 x 2\n",
       "\n",
       "| <!--/--> | source_name &lt;fct&gt; | group &lt;fct&gt; |\n",
       "|---|---|---|\n",
       "| CASE_1 | metastasized cancer | CASE |\n",
       "| CASE_2 | metastasized cancer | CASE |\n",
       "| CASE_3 | metastasized cancer | CASE |\n",
       "| CASE_4 | metastasized cancer | CASE |\n",
       "| CASE_5 | metastasized cancer | CASE |\n",
       "| CTRL_1 | normal colon        | CTRL |\n",
       "| CTRL_2 | normal colon        | CTRL |\n",
       "| CTRL_3 | normal colon        | CTRL |\n",
       "| CTRL_4 | normal colon        | CTRL |\n",
       "| CTRL_5 | normal colon        | CTRL |\n",
       "\n"
      ],
      "text/plain": [
       "       source_name         group\n",
       "CASE_1 metastasized cancer CASE \n",
       "CASE_2 metastasized cancer CASE \n",
       "CASE_3 metastasized cancer CASE \n",
       "CASE_4 metastasized cancer CASE \n",
       "CASE_5 metastasized cancer CASE \n",
       "CTRL_1 normal colon        CTRL \n",
       "CTRL_2 normal colon        CTRL \n",
       "CTRL_3 normal colon        CTRL \n",
       "CTRL_4 normal colon        CTRL \n",
       "CTRL_5 normal colon        CTRL "
      ]
     },
     "metadata": {},
     "output_type": "display_data"
    }
   ],
   "source": [
    "col_data"
   ]
  },
  {
   "cell_type": "markdown",
   "metadata": {
    "id": "jlAew5zo5E3L"
   },
   "source": [
    "## 2. Normalization\n",
    "For gene length bias correction, is often included in the \"normalization\" term."
   ]
  },
  {
   "cell_type": "markdown",
   "metadata": {
    "id": "8Z_qszIp3ok6"
   },
   "source": [
    "### 2.1 CPM: Count per million\n",
    "Normalization to the library size"
   ]
  },
  {
   "cell_type": "code",
   "execution_count": 6,
   "metadata": {
    "id": "unhopdnO0TeC"
   },
   "outputs": [],
   "source": [
    "cpm <- t(t(counts[, 1:10]) / colSums(counts[, 1:10])) * 10^6"
   ]
  },
  {
   "cell_type": "code",
   "execution_count": 7,
   "metadata": {
    "colab": {
     "base_uri": "https://localhost:8080/",
     "height": 183
    },
    "id": "WqceUGMf1xtN",
    "outputId": "a4b020da-5b46-41c8-d6cc-074fec37d064"
   },
   "outputs": [
    {
     "data": {
      "text/html": [
       "<table>\n",
       "<caption>A matrix: 6 x 10 of type dbl</caption>\n",
       "<thead>\n",
       "\t<tr><th></th><th scope=col>CASE_1</th><th scope=col>CASE_2</th><th scope=col>CASE_3</th><th scope=col>CASE_4</th><th scope=col>CASE_5</th><th scope=col>CTRL_1</th><th scope=col>CTRL_2</th><th scope=col>CTRL_3</th><th scope=col>CTRL_4</th><th scope=col>CTRL_5</th></tr>\n",
       "</thead>\n",
       "<tbody>\n",
       "\t<tr><th scope=row>TSPAN6</th><td>133.0525426</td><td>69.0267115</td><td>118.0347011</td><td>63.45319990</td><td>75.1705899</td><td>83.6818109</td><td>90.8357832</td><td>63.7170750</td><td>66.1201154</td><td>116.5649088</td></tr>\n",
       "\t<tr><th scope=row>TNMD</th><td>  0.2541349</td><td> 0.1496685</td><td>  0.5774069</td><td> 0.04131475</td><td> 0.1603471</td><td> 0.6925826</td><td> 0.3495018</td><td> 0.8603467</td><td> 0.5436178</td><td>  0.7308802</td></tr>\n",
       "\t<tr><th scope=row>DPM1</th><td> 62.5344859</td><td>50.9433750</td><td> 47.9546579</td><td>51.61492360</td><td>47.6835767</td><td>31.5816791</td><td>22.8556382</td><td>21.7976235</td><td>18.6670761</td><td> 36.4577954</td></tr>\n",
       "\t<tr><th scope=row>SCYL3</th><td> 17.7536255</td><td>18.1282742</td><td> 18.9680587</td><td>16.32642166</td><td>14.9280985</td><td>24.0552454</td><td>19.8292196</td><td>20.5182320</td><td>17.9989890</td><td> 18.6607898</td></tr>\n",
       "\t<tr><th scope=row>C1ORF112</th><td> 15.5608340</td><td>10.9995218</td><td> 11.8488915</td><td>15.14762970</td><td> 6.5660321</td><td> 7.8228489</td><td> 6.3511382</td><td> 7.3077662</td><td> 5.1345687</td><td> 10.6632034</td></tr>\n",
       "\t<tr><th scope=row>FGR</th><td>  9.7817077</td><td>27.0411643</td><td>  5.1667799</td><td>23.44215745</td><td>23.2660030</td><td> 8.9317887</td><td> 4.5418541</td><td> 4.1459346</td><td> 5.1711610</td><td>  4.3532958</td></tr>\n",
       "</tbody>\n",
       "</table>\n"
      ],
      "text/latex": [
       "A matrix: 6 x 10 of type dbl\n",
       "\\begin{tabular}{r|llllllllll}\n",
       "  & CASE\\_1 & CASE\\_2 & CASE\\_3 & CASE\\_4 & CASE\\_5 & CTRL\\_1 & CTRL\\_2 & CTRL\\_3 & CTRL\\_4 & CTRL\\_5\\\\\n",
       "\\hline\n",
       "\tTSPAN6 & 133.0525426 & 69.0267115 & 118.0347011 & 63.45319990 & 75.1705899 & 83.6818109 & 90.8357832 & 63.7170750 & 66.1201154 & 116.5649088\\\\\n",
       "\tTNMD &   0.2541349 &  0.1496685 &   0.5774069 &  0.04131475 &  0.1603471 &  0.6925826 &  0.3495018 &  0.8603467 &  0.5436178 &   0.7308802\\\\\n",
       "\tDPM1 &  62.5344859 & 50.9433750 &  47.9546579 & 51.61492360 & 47.6835767 & 31.5816791 & 22.8556382 & 21.7976235 & 18.6670761 &  36.4577954\\\\\n",
       "\tSCYL3 &  17.7536255 & 18.1282742 &  18.9680587 & 16.32642166 & 14.9280985 & 24.0552454 & 19.8292196 & 20.5182320 & 17.9989890 &  18.6607898\\\\\n",
       "\tC1ORF112 &  15.5608340 & 10.9995218 &  11.8488915 & 15.14762970 &  6.5660321 &  7.8228489 &  6.3511382 &  7.3077662 &  5.1345687 &  10.6632034\\\\\n",
       "\tFGR &   9.7817077 & 27.0411643 &   5.1667799 & 23.44215745 & 23.2660030 &  8.9317887 &  4.5418541 &  4.1459346 &  5.1711610 &   4.3532958\\\\\n",
       "\\end{tabular}\n"
      ],
      "text/markdown": [
       "\n",
       "A matrix: 6 x 10 of type dbl\n",
       "\n",
       "| <!--/--> | CASE_1 | CASE_2 | CASE_3 | CASE_4 | CASE_5 | CTRL_1 | CTRL_2 | CTRL_3 | CTRL_4 | CTRL_5 |\n",
       "|---|---|---|---|---|---|---|---|---|---|---|\n",
       "| TSPAN6 | 133.0525426 | 69.0267115 | 118.0347011 | 63.45319990 | 75.1705899 | 83.6818109 | 90.8357832 | 63.7170750 | 66.1201154 | 116.5649088 |\n",
       "| TNMD |   0.2541349 |  0.1496685 |   0.5774069 |  0.04131475 |  0.1603471 |  0.6925826 |  0.3495018 |  0.8603467 |  0.5436178 |   0.7308802 |\n",
       "| DPM1 |  62.5344859 | 50.9433750 |  47.9546579 | 51.61492360 | 47.6835767 | 31.5816791 | 22.8556382 | 21.7976235 | 18.6670761 |  36.4577954 |\n",
       "| SCYL3 |  17.7536255 | 18.1282742 |  18.9680587 | 16.32642166 | 14.9280985 | 24.0552454 | 19.8292196 | 20.5182320 | 17.9989890 |  18.6607898 |\n",
       "| C1ORF112 |  15.5608340 | 10.9995218 |  11.8488915 | 15.14762970 |  6.5660321 |  7.8228489 |  6.3511382 |  7.3077662 |  5.1345687 |  10.6632034 |\n",
       "| FGR |   9.7817077 | 27.0411643 |   5.1667799 | 23.44215745 | 23.2660030 |  8.9317887 |  4.5418541 |  4.1459346 |  5.1711610 |   4.3532958 |\n",
       "\n"
      ],
      "text/plain": [
       "         CASE_1      CASE_2     CASE_3      CASE_4      CASE_5     CTRL_1    \n",
       "TSPAN6   133.0525426 69.0267115 118.0347011 63.45319990 75.1705899 83.6818109\n",
       "TNMD       0.2541349  0.1496685   0.5774069  0.04131475  0.1603471  0.6925826\n",
       "DPM1      62.5344859 50.9433750  47.9546579 51.61492360 47.6835767 31.5816791\n",
       "SCYL3     17.7536255 18.1282742  18.9680587 16.32642166 14.9280985 24.0552454\n",
       "C1ORF112  15.5608340 10.9995218  11.8488915 15.14762970  6.5660321  7.8228489\n",
       "FGR        9.7817077 27.0411643   5.1667799 23.44215745 23.2660030  8.9317887\n",
       "         CTRL_2     CTRL_3     CTRL_4     CTRL_5     \n",
       "TSPAN6   90.8357832 63.7170750 66.1201154 116.5649088\n",
       "TNMD      0.3495018  0.8603467  0.5436178   0.7308802\n",
       "DPM1     22.8556382 21.7976235 18.6670761  36.4577954\n",
       "SCYL3    19.8292196 20.5182320 17.9989890  18.6607898\n",
       "C1ORF112  6.3511382  7.3077662  5.1345687  10.6632034\n",
       "FGR       4.5418541  4.1459346  5.1711610   4.3532958"
      ]
     },
     "metadata": {},
     "output_type": "display_data"
    }
   ],
   "source": [
    "head(cpm)"
   ]
  },
  {
   "cell_type": "code",
   "execution_count": 8,
   "metadata": {},
   "outputs": [
    {
     "data": {
      "image/png": "[encoded data removed]",
      "text/plain": [
       "Plot with title \"Histogram of log(cpm[, 10] + 0.1)\""
      ]
     },
     "metadata": {
      "image/png": {
       "height": 420,
       "width": 420
      }
     },
     "output_type": "display_data"
    }
   ],
   "source": [
    "hist(log(cpm[, 10] + 0.1), breaks=seq(-3, 11, 0.5))"
   ]
  },
  {
   "cell_type": "markdown",
   "metadata": {
    "id": "5hQTt9eH371K"
   },
   "source": [
    "### 2.2 RPKM: Read per killobase per million\n",
    "Correction the gene length bias. It also often contained in the normalization term"
   ]
  },
  {
   "cell_type": "code",
   "execution_count": 9,
   "metadata": {
    "colab": {
     "base_uri": "https://localhost:8080/",
     "height": 34
    },
    "id": "KOTtxNvL1zrD",
    "outputId": "6d9de773-48cd-4768-8185-37ce2359a102"
   },
   "outputs": [
    {
     "data": {
      "text/html": [
       "<style>\n",
       ".dl-inline {width: auto; margin:0; padding: 0}\n",
       ".dl-inline>dt, .dl-inline>dd {float: none; width: auto; display: inline-block}\n",
       ".dl-inline>dt::after {content: \":\\0020\"; padding-right: .5ex}\n",
       ".dl-inline>dt:not(:first-of-type) {padding-left: .5ex}\n",
       "</style><dl class=dl-inline><dt>TSPAN6</dt><dd>12883</dd><dt>TNMD</dt><dd>15084</dd><dt>DPM1</dt><dd>23689</dd><dt>SCYL3</dt><dd>44637</dd><dt>C1ORF112</dt><dd>192074</dd><dt>FGR</dt><dd>23214</dd></dl>\n"
      ],
      "text/latex": [
       "\\begin{description*}\n",
       "\\item[TSPAN6] 12883\n",
       "\\item[TNMD] 15084\n",
       "\\item[DPM1] 23689\n",
       "\\item[SCYL3] 44637\n",
       "\\item[C1ORF112] 192074\n",
       "\\item[FGR] 23214\n",
       "\\end{description*}\n"
      ],
      "text/markdown": [
       "TSPAN6\n",
       ":   12883TNMD\n",
       ":   15084DPM1\n",
       ":   23689SCYL3\n",
       ":   44637C1ORF112\n",
       ":   192074FGR\n",
       ":   23214\n",
       "\n"
      ],
      "text/plain": [
       "  TSPAN6     TNMD     DPM1    SCYL3 C1ORF112      FGR \n",
       "   12883    15084    23689    44637   192074    23214 "
      ]
     },
     "metadata": {},
     "output_type": "display_data"
    }
   ],
   "source": [
    "geneLengths <- counts[, 11]\n",
    "head(geneLengths)"
   ]
  },
  {
   "cell_type": "code",
   "execution_count": 10,
   "metadata": {
    "id": "G7nj8AHd3BYq"
   },
   "outputs": [],
   "source": [
    "rpkm <- cpm / geneLengths * 10^3"
   ]
  },
  {
   "cell_type": "code",
   "execution_count": 11,
   "metadata": {
    "colab": {
     "base_uri": "https://localhost:8080/",
     "height": 183
    },
    "id": "t7CsT0xn3Ofg",
    "outputId": "286c39d8-1daa-48f6-d63d-bcd8a2040bc4"
   },
   "outputs": [
    {
     "data": {
      "text/html": [
       "<table>\n",
       "<caption>A matrix: 6 x 10 of type dbl</caption>\n",
       "<thead>\n",
       "\t<tr><th></th><th scope=col>CASE_1</th><th scope=col>CASE_2</th><th scope=col>CASE_3</th><th scope=col>CASE_4</th><th scope=col>CASE_5</th><th scope=col>CTRL_1</th><th scope=col>CTRL_2</th><th scope=col>CTRL_3</th><th scope=col>CTRL_4</th><th scope=col>CTRL_5</th></tr>\n",
       "</thead>\n",
       "<tbody>\n",
       "\t<tr><th scope=row>TSPAN6</th><td>10.32776081</td><td>5.357968757</td><td>9.16205085</td><td>4.925343468</td><td>5.83486687</td><td>6.49552207</td><td>7.05082537</td><td>4.94582589</td><td>5.13235390</td><td>9.04796312</td></tr>\n",
       "\t<tr><th scope=row>TNMD</th><td> 0.01684798</td><td>0.009922336</td><td>0.03827943</td><td>0.002738979</td><td>0.01063028</td><td>0.04591505</td><td>0.02317037</td><td>0.05703704</td><td>0.03603937</td><td>0.04845400</td></tr>\n",
       "\t<tr><th scope=row>DPM1</th><td> 2.63981113</td><td>2.150507621</td><td>2.02434285</td><td>2.178856161</td><td>2.01289952</td><td>1.33317907</td><td>0.96482073</td><td>0.92015803</td><td>0.78800608</td><td>1.53901792</td></tr>\n",
       "\t<tr><th scope=row>SCYL3</th><td> 0.39773339</td><td>0.406126625</td><td>0.42494027</td><td>0.365759833</td><td>0.33443328</td><td>0.53890820</td><td>0.44423280</td><td>0.45966871</td><td>0.40323026</td><td>0.41805654</td></tr>\n",
       "\t<tr><th scope=row>C1ORF112</th><td> 0.08101479</td><td>0.057267105</td><td>0.06168920</td><td>0.078863509</td><td>0.03418491</td><td>0.04072831</td><td>0.03306610</td><td>0.03804662</td><td>0.02673224</td><td>0.05551612</td></tr>\n",
       "\t<tr><th scope=row>FGR</th><td> 0.42137106</td><td>1.164864492</td><td>0.22257172</td><td>1.009828442</td><td>1.00224016</td><td>0.38475871</td><td>0.19565151</td><td>0.17859631</td><td>0.22276045</td><td>0.18752890</td></tr>\n",
       "</tbody>\n",
       "</table>\n"
      ],
      "text/latex": [
       "A matrix: 6 x 10 of type dbl\n",
       "\\begin{tabular}{r|llllllllll}\n",
       "  & CASE\\_1 & CASE\\_2 & CASE\\_3 & CASE\\_4 & CASE\\_5 & CTRL\\_1 & CTRL\\_2 & CTRL\\_3 & CTRL\\_4 & CTRL\\_5\\\\\n",
       "\\hline\n",
       "\tTSPAN6 & 10.32776081 & 5.357968757 & 9.16205085 & 4.925343468 & 5.83486687 & 6.49552207 & 7.05082537 & 4.94582589 & 5.13235390 & 9.04796312\\\\\n",
       "\tTNMD &  0.01684798 & 0.009922336 & 0.03827943 & 0.002738979 & 0.01063028 & 0.04591505 & 0.02317037 & 0.05703704 & 0.03603937 & 0.04845400\\\\\n",
       "\tDPM1 &  2.63981113 & 2.150507621 & 2.02434285 & 2.178856161 & 2.01289952 & 1.33317907 & 0.96482073 & 0.92015803 & 0.78800608 & 1.53901792\\\\\n",
       "\tSCYL3 &  0.39773339 & 0.406126625 & 0.42494027 & 0.365759833 & 0.33443328 & 0.53890820 & 0.44423280 & 0.45966871 & 0.40323026 & 0.41805654\\\\\n",
       "\tC1ORF112 &  0.08101479 & 0.057267105 & 0.06168920 & 0.078863509 & 0.03418491 & 0.04072831 & 0.03306610 & 0.03804662 & 0.02673224 & 0.05551612\\\\\n",
       "\tFGR &  0.42137106 & 1.164864492 & 0.22257172 & 1.009828442 & 1.00224016 & 0.38475871 & 0.19565151 & 0.17859631 & 0.22276045 & 0.18752890\\\\\n",
       "\\end{tabular}\n"
      ],
      "text/markdown": [
       "\n",
       "A matrix: 6 x 10 of type dbl\n",
       "\n",
       "| <!--/--> | CASE_1 | CASE_2 | CASE_3 | CASE_4 | CASE_5 | CTRL_1 | CTRL_2 | CTRL_3 | CTRL_4 | CTRL_5 |\n",
       "|---|---|---|---|---|---|---|---|---|---|---|\n",
       "| TSPAN6 | 10.32776081 | 5.357968757 | 9.16205085 | 4.925343468 | 5.83486687 | 6.49552207 | 7.05082537 | 4.94582589 | 5.13235390 | 9.04796312 |\n",
       "| TNMD |  0.01684798 | 0.009922336 | 0.03827943 | 0.002738979 | 0.01063028 | 0.04591505 | 0.02317037 | 0.05703704 | 0.03603937 | 0.04845400 |\n",
       "| DPM1 |  2.63981113 | 2.150507621 | 2.02434285 | 2.178856161 | 2.01289952 | 1.33317907 | 0.96482073 | 0.92015803 | 0.78800608 | 1.53901792 |\n",
       "| SCYL3 |  0.39773339 | 0.406126625 | 0.42494027 | 0.365759833 | 0.33443328 | 0.53890820 | 0.44423280 | 0.45966871 | 0.40323026 | 0.41805654 |\n",
       "| C1ORF112 |  0.08101479 | 0.057267105 | 0.06168920 | 0.078863509 | 0.03418491 | 0.04072831 | 0.03306610 | 0.03804662 | 0.02673224 | 0.05551612 |\n",
       "| FGR |  0.42137106 | 1.164864492 | 0.22257172 | 1.009828442 | 1.00224016 | 0.38475871 | 0.19565151 | 0.17859631 | 0.22276045 | 0.18752890 |\n",
       "\n"
      ],
      "text/plain": [
       "         CASE_1      CASE_2      CASE_3     CASE_4      CASE_5     CTRL_1    \n",
       "TSPAN6   10.32776081 5.357968757 9.16205085 4.925343468 5.83486687 6.49552207\n",
       "TNMD      0.01684798 0.009922336 0.03827943 0.002738979 0.01063028 0.04591505\n",
       "DPM1      2.63981113 2.150507621 2.02434285 2.178856161 2.01289952 1.33317907\n",
       "SCYL3     0.39773339 0.406126625 0.42494027 0.365759833 0.33443328 0.53890820\n",
       "C1ORF112  0.08101479 0.057267105 0.06168920 0.078863509 0.03418491 0.04072831\n",
       "FGR       0.42137106 1.164864492 0.22257172 1.009828442 1.00224016 0.38475871\n",
       "         CTRL_2     CTRL_3     CTRL_4     CTRL_5    \n",
       "TSPAN6   7.05082537 4.94582589 5.13235390 9.04796312\n",
       "TNMD     0.02317037 0.05703704 0.03603937 0.04845400\n",
       "DPM1     0.96482073 0.92015803 0.78800608 1.53901792\n",
       "SCYL3    0.44423280 0.45966871 0.40323026 0.41805654\n",
       "C1ORF112 0.03306610 0.03804662 0.02673224 0.05551612\n",
       "FGR      0.19565151 0.17859631 0.22276045 0.18752890"
      ]
     },
     "metadata": {},
     "output_type": "display_data"
    }
   ],
   "source": [
    "head(rpkm)"
   ]
  },
  {
   "cell_type": "code",
   "execution_count": 12,
   "metadata": {
    "id": "MYfRnq_J6uZC"
   },
   "outputs": [],
   "source": [
    "# smoothScatter(log10(geneLengths + 0.1), log10(cpm[, 10] + 0.1))"
   ]
  },
  {
   "cell_type": "code",
   "execution_count": 13,
   "metadata": {},
   "outputs": [
    {
     "data": {
      "image/png": "[encoded data removed]",
      "text/plain": [
       "Plot with title \"Histogram of log(rpkm[, 10] + 0.1)\""
      ]
     },
     "metadata": {
      "image/png": {
       "height": 420,
       "width": 420
      }
     },
     "output_type": "display_data"
    }
   ],
   "source": [
    "hist(log(rpkm[, 10] + 0.1), breaks=seq(-3, 11, 0.5))"
   ]
  },
  {
   "cell_type": "markdown",
   "metadata": {
    "id": "1ufF5qLi4Iyy"
   },
   "source": [
    "### 2.3 TPM: transcript per million\n"
   ]
  },
  {
   "cell_type": "code",
   "execution_count": 14,
   "metadata": {
    "id": "gl04feUX5atU"
   },
   "outputs": [],
   "source": [
    "tpm <- t(t(rpkm) / colSums(rpkm)) * 10^6"
   ]
  },
  {
   "cell_type": "code",
   "execution_count": 15,
   "metadata": {
    "colab": {
     "base_uri": "https://localhost:8080/",
     "height": 183
    },
    "id": "Y_OQquHl5a6w",
    "outputId": "d2f45043-9f0c-4da0-a77d-f6e4f44246aa"
   },
   "outputs": [
    {
     "data": {
      "text/html": [
       "<table>\n",
       "<caption>A matrix: 6 x 10 of type dbl</caption>\n",
       "<thead>\n",
       "\t<tr><th></th><th scope=col>CASE_1</th><th scope=col>CASE_2</th><th scope=col>CASE_3</th><th scope=col>CASE_4</th><th scope=col>CASE_5</th><th scope=col>CTRL_1</th><th scope=col>CTRL_2</th><th scope=col>CTRL_3</th><th scope=col>CTRL_4</th><th scope=col>CTRL_5</th></tr>\n",
       "</thead>\n",
       "<tbody>\n",
       "\t<tr><th scope=row>TSPAN6</th><td>65.2454175</td><td>34.94535342</td><td>56.6343869</td><td>28.46238940</td><td>33.77412727</td><td>30.9262602</td><td>23.36534574</td><td>20.4865448</td><td>17.59616734</td><td>35.9038047</td></tr>\n",
       "\t<tr><th scope=row>TNMD</th><td> 0.1064367</td><td> 0.06471474</td><td> 0.2366208</td><td> 0.01582791</td><td> 0.06153155</td><td> 0.2186092</td><td> 0.07678302</td><td> 0.2362582</td><td> 0.12356021</td><td> 0.1922734</td></tr>\n",
       "\t<tr><th scope=row>DPM1</th><td>16.6769528</td><td>14.02588411</td><td>12.5132919</td><td>12.59109195</td><td>11.65132402</td><td> 6.3474872</td><td> 3.19726681</td><td> 3.8114683</td><td> 2.70166227</td><td> 6.1070760</td></tr>\n",
       "\t<tr><th scope=row>SCYL3</th><td> 2.5126726</td><td> 2.64880948</td><td> 2.6267297</td><td> 2.11363915</td><td> 1.93580977</td><td> 2.5658315</td><td> 1.47211886</td><td> 1.9040346</td><td> 1.38246645</td><td> 1.6589171</td></tr>\n",
       "\t<tr><th scope=row>C1ORF112</th><td> 0.5118093</td><td> 0.37350334</td><td> 0.3813262</td><td> 0.45573348</td><td> 0.19787349</td><td> 0.1939142</td><td> 0.10957595</td><td> 0.1575963</td><td> 0.09165093</td><td> 0.2202971</td></tr>\n",
       "\t<tr><th scope=row>FGR</th><td> 2.6620030</td><td> 7.59739431</td><td> 1.3758069</td><td> 5.83555858</td><td> 5.80129545</td><td> 1.8319002</td><td> 0.64835886</td><td> 0.7397796</td><td> 0.76372950</td><td> 0.7441455</td></tr>\n",
       "</tbody>\n",
       "</table>\n"
      ],
      "text/latex": [
       "A matrix: 6 x 10 of type dbl\n",
       "\\begin{tabular}{r|llllllllll}\n",
       "  & CASE\\_1 & CASE\\_2 & CASE\\_3 & CASE\\_4 & CASE\\_5 & CTRL\\_1 & CTRL\\_2 & CTRL\\_3 & CTRL\\_4 & CTRL\\_5\\\\\n",
       "\\hline\n",
       "\tTSPAN6 & 65.2454175 & 34.94535342 & 56.6343869 & 28.46238940 & 33.77412727 & 30.9262602 & 23.36534574 & 20.4865448 & 17.59616734 & 35.9038047\\\\\n",
       "\tTNMD &  0.1064367 &  0.06471474 &  0.2366208 &  0.01582791 &  0.06153155 &  0.2186092 &  0.07678302 &  0.2362582 &  0.12356021 &  0.1922734\\\\\n",
       "\tDPM1 & 16.6769528 & 14.02588411 & 12.5132919 & 12.59109195 & 11.65132402 &  6.3474872 &  3.19726681 &  3.8114683 &  2.70166227 &  6.1070760\\\\\n",
       "\tSCYL3 &  2.5126726 &  2.64880948 &  2.6267297 &  2.11363915 &  1.93580977 &  2.5658315 &  1.47211886 &  1.9040346 &  1.38246645 &  1.6589171\\\\\n",
       "\tC1ORF112 &  0.5118093 &  0.37350334 &  0.3813262 &  0.45573348 &  0.19787349 &  0.1939142 &  0.10957595 &  0.1575963 &  0.09165093 &  0.2202971\\\\\n",
       "\tFGR &  2.6620030 &  7.59739431 &  1.3758069 &  5.83555858 &  5.80129545 &  1.8319002 &  0.64835886 &  0.7397796 &  0.76372950 &  0.7441455\\\\\n",
       "\\end{tabular}\n"
      ],
      "text/markdown": [
       "\n",
       "A matrix: 6 x 10 of type dbl\n",
       "\n",
       "| <!--/--> | CASE_1 | CASE_2 | CASE_3 | CASE_4 | CASE_5 | CTRL_1 | CTRL_2 | CTRL_3 | CTRL_4 | CTRL_5 |\n",
       "|---|---|---|---|---|---|---|---|---|---|---|\n",
       "| TSPAN6 | 65.2454175 | 34.94535342 | 56.6343869 | 28.46238940 | 33.77412727 | 30.9262602 | 23.36534574 | 20.4865448 | 17.59616734 | 35.9038047 |\n",
       "| TNMD |  0.1064367 |  0.06471474 |  0.2366208 |  0.01582791 |  0.06153155 |  0.2186092 |  0.07678302 |  0.2362582 |  0.12356021 |  0.1922734 |\n",
       "| DPM1 | 16.6769528 | 14.02588411 | 12.5132919 | 12.59109195 | 11.65132402 |  6.3474872 |  3.19726681 |  3.8114683 |  2.70166227 |  6.1070760 |\n",
       "| SCYL3 |  2.5126726 |  2.64880948 |  2.6267297 |  2.11363915 |  1.93580977 |  2.5658315 |  1.47211886 |  1.9040346 |  1.38246645 |  1.6589171 |\n",
       "| C1ORF112 |  0.5118093 |  0.37350334 |  0.3813262 |  0.45573348 |  0.19787349 |  0.1939142 |  0.10957595 |  0.1575963 |  0.09165093 |  0.2202971 |\n",
       "| FGR |  2.6620030 |  7.59739431 |  1.3758069 |  5.83555858 |  5.80129545 |  1.8319002 |  0.64835886 |  0.7397796 |  0.76372950 |  0.7441455 |\n",
       "\n"
      ],
      "text/plain": [
       "         CASE_1     CASE_2      CASE_3     CASE_4      CASE_5      CTRL_1    \n",
       "TSPAN6   65.2454175 34.94535342 56.6343869 28.46238940 33.77412727 30.9262602\n",
       "TNMD      0.1064367  0.06471474  0.2366208  0.01582791  0.06153155  0.2186092\n",
       "DPM1     16.6769528 14.02588411 12.5132919 12.59109195 11.65132402  6.3474872\n",
       "SCYL3     2.5126726  2.64880948  2.6267297  2.11363915  1.93580977  2.5658315\n",
       "C1ORF112  0.5118093  0.37350334  0.3813262  0.45573348  0.19787349  0.1939142\n",
       "FGR       2.6620030  7.59739431  1.3758069  5.83555858  5.80129545  1.8319002\n",
       "         CTRL_2      CTRL_3     CTRL_4      CTRL_5    \n",
       "TSPAN6   23.36534574 20.4865448 17.59616734 35.9038047\n",
       "TNMD      0.07678302  0.2362582  0.12356021  0.1922734\n",
       "DPM1      3.19726681  3.8114683  2.70166227  6.1070760\n",
       "SCYL3     1.47211886  1.9040346  1.38246645  1.6589171\n",
       "C1ORF112  0.10957595  0.1575963  0.09165093  0.2202971\n",
       "FGR       0.64835886  0.7397796  0.76372950  0.7441455"
      ]
     },
     "metadata": {},
     "output_type": "display_data"
    }
   ],
   "source": [
    "head(tpm)"
   ]
  },
  {
   "cell_type": "code",
   "execution_count": 16,
   "metadata": {
    "colab": {
     "base_uri": "https://localhost:8080/",
     "height": 437
    },
    "id": "3xDls3As3ayX",
    "outputId": "321dd070-a6af-405b-cf3b-e9da40f19353"
   },
   "outputs": [
    {
     "data": {
      "image/png": "[encoded data removed]",
      "text/plain": [
       "plot without title"
      ]
     },
     "metadata": {
      "image/png": {
       "height": 420,
       "width": 420
      }
     },
     "output_type": "display_data"
    }
   ],
   "source": [
    "plot(log10(rpkm[, 10] + 0.1), log10(tpm[, 10] + 0.1))"
   ]
  },
  {
   "cell_type": "markdown",
   "metadata": {},
   "source": [
    "<font color='red'>**Q1: Define CPM, TPM and RPKM, and describe their difference?**</font>"
   ]
  },
  {
   "cell_type": "markdown",
   "metadata": {
    "id": "vXOVjLYU8Wwr"
   },
   "source": [
    "## 3. Differential gene expression"
   ]
  },
  {
   "cell_type": "code",
   "execution_count": 17,
   "metadata": {
    "colab": {
     "base_uri": "https://localhost:8080/",
     "height": 1000
    },
    "id": "STa_572S8OXt",
    "outputId": "e1cf6f29-3f60-4a1e-d1c8-c0c7684c62ec"
   },
   "outputs": [
    {
     "name": "stderr",
     "output_type": "stream",
     "text": [
      "Loading required package: S4Vectors\n",
      "\n",
      "Loading required package: stats4\n",
      "\n",
      "Loading required package: BiocGenerics\n",
      "\n",
      "Loading required package: parallel\n",
      "\n",
      "\n",
      "Attaching package: 'BiocGenerics'\n",
      "\n",
      "\n",
      "The following objects are masked from 'package:parallel':\n",
      "\n",
      "    clusterApply, clusterApplyLB, clusterCall, clusterEvalQ,\n",
      "    clusterExport, clusterMap, parApply, parCapply, parLapply,\n",
      "    parLapplyLB, parRapply, parSapply, parSapplyLB\n",
      "\n",
      "\n",
      "The following objects are masked from 'package:stats':\n",
      "\n",
      "    IQR, mad, sd, var, xtabs\n",
      "\n",
      "\n",
      "The following objects are masked from 'package:base':\n",
      "\n",
      "    anyDuplicated, append, as.data.frame, basename, cbind, colnames,\n",
      "    dirname, do.call, duplicated, eval, evalq, Filter, Find, get, grep,\n",
      "    grepl, intersect, is.unsorted, lapply, Map, mapply, match, mget,\n",
      "    order, paste, pmax, pmax.int, pmin, pmin.int, Position, rank,\n",
      "    rbind, Reduce, rownames, sapply, setdiff, sort, table, tapply,\n",
      "    union, unique, unsplit, which, which.max, which.min\n",
      "\n",
      "\n",
      "\n",
      "Attaching package: 'S4Vectors'\n",
      "\n",
      "\n",
      "The following object is masked from 'package:base':\n",
      "\n",
      "    expand.grid\n",
      "\n",
      "\n",
      "Loading required package: IRanges\n",
      "\n",
      "Loading required package: GenomicRanges\n",
      "\n",
      "Loading required package: GenomeInfoDb\n",
      "\n",
      "Loading required package: SummarizedExperiment\n",
      "\n",
      "Loading required package: Biobase\n",
      "\n",
      "Welcome to Bioconductor\n",
      "\n",
      "    Vignettes contain introductory material; view with\n",
      "    'browseVignettes()'. To cite Bioconductor, see\n",
      "    'citation(\"Biobase\")', and for packages 'citation(\"pkgname\")'.\n",
      "\n",
      "\n",
      "Loading required package: DelayedArray\n",
      "\n",
      "Loading required package: matrixStats\n",
      "\n",
      "\n",
      "Attaching package: 'matrixStats'\n",
      "\n",
      "\n",
      "The following objects are masked from 'package:Biobase':\n",
      "\n",
      "    anyMissing, rowMedians\n",
      "\n",
      "\n",
      "Loading required package: BiocParallel\n",
      "\n",
      "\n",
      "Attaching package: 'DelayedArray'\n",
      "\n",
      "\n",
      "The following objects are masked from 'package:matrixStats':\n",
      "\n",
      "    colMaxs, colMins, colRanges, rowMaxs, rowMins, rowRanges\n",
      "\n",
      "\n",
      "The following objects are masked from 'package:base':\n",
      "\n",
      "    aperm, apply, rowsum\n",
      "\n",
      "\n"
     ]
    }
   ],
   "source": [
    "library(DESeq2)\n",
    "library(stats)\n",
    "library(ggplot2)"
   ]
  },
  {
   "cell_type": "code",
   "execution_count": 18,
   "metadata": {
    "colab": {
     "base_uri": "https://localhost:8080/",
     "height": 187
    },
    "id": "xbI6w8hI82YL",
    "outputId": "6fcd0bb2-4a61-4e75-d3b8-7164a2ebaa45"
   },
   "outputs": [
    {
     "name": "stderr",
     "output_type": "stream",
     "text": [
      "converting counts to integer mode\n",
      "\n"
     ]
    },
    {
     "name": "stdout",
     "output_type": "stream",
     "text": [
      "class: DESeqDataSet \n",
      "dim: 19719 10 \n",
      "metadata(1): version\n",
      "assays(1): counts\n",
      "rownames(19719): TSPAN6 TNMD ... MYOCOS HSFX3\n",
      "rowData names(0):\n",
      "colnames(10): CASE_1 CASE_2 ... CTRL_4 CTRL_5\n",
      "colData names(2): source_name group\n"
     ]
    }
   ],
   "source": [
    "#define the design formula\n",
    "designFormula <- \"~ group\"\n",
    "\n",
    "#create a DESeq dataset object from the count matrix and the colData \n",
    "dds <- DESeqDataSetFromMatrix(countData = counts[, 1:10], \n",
    "                              colData = col_data, \n",
    "                              design = as.formula(designFormula))\n",
    "                              \n",
    "#print dds object to see the contents\n",
    "print(dds)"
   ]
  },
  {
   "cell_type": "code",
   "execution_count": 19,
   "metadata": {
    "colab": {
     "base_uri": "https://localhost:8080/",
     "height": 249
    },
    "id": "K3lieh52-6Rf",
    "outputId": "642a6d7e-5d2a-4c93-a077-a75cf03e2918"
   },
   "outputs": [
    {
     "name": "stderr",
     "output_type": "stream",
     "text": [
      "`geom_smooth()` using formula 'y ~ x'\n",
      "\n"
     ]
    },
    {
     "data": {
      "image/png": "[encoded data removed]",
      "text/plain": [
       "plot without title"
      ]
     },
     "metadata": {
      "image/png": {
       "height": 420,
       "width": 420
      }
     },
     "output_type": "display_data"
    }
   ],
   "source": [
    "size_factor <- DESeq2::estimateSizeFactorsForMatrix(dds@assays@data$counts)\n",
    "total_reads <- colSums(dds@assays@data$counts)\n",
    "\n",
    "# plot(total_reads, size_factor)\n",
    "df <- data.frame(size_factor=size_factor, total_reads=total_reads)\n",
    "\n",
    "ggplot(df, aes(x=total_reads, y=size_factor)) + \n",
    "  geom_point(size=5)+\n",
    "  geom_smooth(method=lm, color=\"black\")"
   ]
  },
  {
   "cell_type": "markdown",
   "metadata": {},
   "source": [
    "<font color='red'>**Q2: What is the relationship between the learned size factor and total reads?**</font>\n",
    "\n",
    "Hints: see the [Fig. 8.1](https://web.stanford.edu/class/bios221/book/Chap-CountData.html#fig:rnaseq-normalization) in the book \n",
    "[Modern Statistics for Modern Biology](https://web.stanford.edu/class/bios221/book/Chap-CountData.html)."
   ]
  },
  {
   "cell_type": "markdown",
   "metadata": {
    "id": "Y8bkpwQa9NZJ"
   },
   "source": [
    "#### Remove lowly expressed genes\n",
    "This step can reduce the number of tests, but be careful as some informative genes may indeed have low expression\n",
    "\n",
    "Here, we only remove genes with no expression at all"
   ]
  },
  {
   "cell_type": "code",
   "execution_count": 20,
   "metadata": {
    "colab": {
     "base_uri": "https://localhost:8080/",
     "height": 34
    },
    "id": "6njiKOyR9dW5",
    "outputId": "5e337745-767c-4ede-b28a-4b6d8fb83e76"
   },
   "outputs": [
    {
     "data": {
      "text/html": [
       "<style>\n",
       ".list-inline {list-style: none; margin:0; padding: 0}\n",
       ".list-inline>li {display: inline-block}\n",
       ".list-inline>li:not(:last-child)::after {content: \"\\00b7\"; padding: 0 .5ex}\n",
       "</style>\n",
       "<ol class=list-inline><li>19097</li><li>10</li></ol>\n"
      ],
      "text/latex": [
       "\\begin{enumerate*}\n",
       "\\item 19097\n",
       "\\item 10\n",
       "\\end{enumerate*}\n"
      ],
      "text/markdown": [
       "1. 19097\n",
       "2. 10\n",
       "\n",
       "\n"
      ],
      "text/plain": [
       "[1] 19097    10"
      ]
     },
     "metadata": {},
     "output_type": "display_data"
    }
   ],
   "source": [
    "#For each gene, we count the total number of reads for that gene in all samples \n",
    "#and remove those that don't have at least 1 read. \n",
    "\n",
    "dds <- dds[ rowSums(dds@assays@data$counts) > 1, ]\n",
    "dim(dds)"
   ]
  },
  {
   "cell_type": "code",
   "execution_count": 21,
   "metadata": {
    "colab": {
     "base_uri": "https://localhost:8080/",
     "height": 34
    },
    "id": "LipKHPGC9wph",
    "outputId": "20ddd853-b45a-4371-8b04-271b3cf3c18e"
   },
   "outputs": [
    {
     "data": {
      "text/html": [
       "19097"
      ],
      "text/latex": [
       "19097"
      ],
      "text/markdown": [
       "19097"
      ],
      "text/plain": [
       "[1] 19097"
      ]
     },
     "metadata": {},
     "output_type": "display_data"
    }
   ],
   "source": [
    "sum(rowSums(dds@assays@data$counts) > 1)"
   ]
  },
  {
   "cell_type": "markdown",
   "metadata": {
    "id": "xkZhvY-a-g7H"
   },
   "source": [
    "### 3.1 Perform DE analysis"
   ]
  },
  {
   "cell_type": "code",
   "execution_count": 22,
   "metadata": {
    "colab": {
     "base_uri": "https://localhost:8080/",
     "height": 221
    },
    "id": "VOEchYJt9xoh",
    "outputId": "da952a54-f94e-4a52-8bfa-369adcb32b39"
   },
   "outputs": [
    {
     "name": "stderr",
     "output_type": "stream",
     "text": [
      "estimating size factors\n",
      "\n",
      "estimating dispersions\n",
      "\n",
      "gene-wise dispersion estimates\n",
      "\n",
      "mean-dispersion relationship\n",
      "\n",
      "final dispersion estimates\n",
      "\n",
      "fitting model and testing\n",
      "\n"
     ]
    }
   ],
   "source": [
    "dds <- DESeq(dds)"
   ]
  },
  {
   "cell_type": "code",
   "execution_count": 23,
   "metadata": {},
   "outputs": [],
   "source": [
    "#compute the contrast for the 'group' variable where 'CTRL' \n",
    "#samples are used as the control group. \n",
    "\n",
    "DEresults = results(dds, contrast = c(\"group\", 'CASE', 'CTRL'))\n",
    "\n",
    "#sort results by increasing p-value\n",
    "DEresults <- as.data.frame(DEresults[order(DEresults$pvalue), ])"
   ]
  },
  {
   "cell_type": "code",
   "execution_count": 24,
   "metadata": {},
   "outputs": [
    {
     "data": {
      "text/html": [
       "<table>\n",
       "<caption>A data.frame: 6 x 6</caption>\n",
       "<thead>\n",
       "\t<tr><th></th><th scope=col>baseMean</th><th scope=col>log2FoldChange</th><th scope=col>lfcSE</th><th scope=col>stat</th><th scope=col>pvalue</th><th scope=col>padj</th></tr>\n",
       "\t<tr><th></th><th scope=col>&lt;dbl&gt;</th><th scope=col>&lt;dbl&gt;</th><th scope=col>&lt;dbl&gt;</th><th scope=col>&lt;dbl&gt;</th><th scope=col>&lt;dbl&gt;</th><th scope=col>&lt;dbl&gt;</th></tr>\n",
       "</thead>\n",
       "<tbody>\n",
       "\t<tr><th scope=row>CYP2E1</th><td> 4829888.9</td><td> 9.360244</td><td>0.2152217</td><td> 43.49116</td><td> 0.000000e+00</td><td> 0.000000e+00</td></tr>\n",
       "\t<tr><th scope=row>FCGBP</th><td>10349993.2</td><td>-7.575787</td><td>0.1864329</td><td>-40.63545</td><td> 0.000000e+00</td><td> 0.000000e+00</td></tr>\n",
       "\t<tr><th scope=row>ASGR2</th><td>  426421.7</td><td> 8.018301</td><td>0.2162068</td><td> 37.08626</td><td>4.678977e-301</td><td>2.877415e-297</td></tr>\n",
       "\t<tr><th scope=row>GCKR</th><td>  100182.7</td><td> 7.828413</td><td>0.2333762</td><td> 33.54417</td><td>1.094790e-246</td><td>5.049446e-243</td></tr>\n",
       "\t<tr><th scope=row>APOA5</th><td>  438054.0</td><td>10.202485</td><td>0.3125005</td><td> 32.64790</td><td>8.582274e-234</td><td>3.166688e-230</td></tr>\n",
       "\t<tr><th scope=row>APCS</th><td>  899875.4</td><td> 9.649894</td><td>0.3033213</td><td> 31.81410</td><td>4.131410e-222</td><td>1.270340e-218</td></tr>\n",
       "</tbody>\n",
       "</table>\n"
      ],
      "text/latex": [
       "A data.frame: 6 x 6\n",
       "\\begin{tabular}{r|llllll}\n",
       "  & baseMean & log2FoldChange & lfcSE & stat & pvalue & padj\\\\\n",
       "  & <dbl> & <dbl> & <dbl> & <dbl> & <dbl> & <dbl>\\\\\n",
       "\\hline\n",
       "\tCYP2E1 &  4829888.9 &  9.360244 & 0.2152217 &  43.49116 &  0.000000e+00 &  0.000000e+00\\\\\n",
       "\tFCGBP & 10349993.2 & -7.575787 & 0.1864329 & -40.63545 &  0.000000e+00 &  0.000000e+00\\\\\n",
       "\tASGR2 &   426421.7 &  8.018301 & 0.2162068 &  37.08626 & 4.678977e-301 & 2.877415e-297\\\\\n",
       "\tGCKR &   100182.7 &  7.828413 & 0.2333762 &  33.54417 & 1.094790e-246 & 5.049446e-243\\\\\n",
       "\tAPOA5 &   438054.0 & 10.202485 & 0.3125005 &  32.64790 & 8.582274e-234 & 3.166688e-230\\\\\n",
       "\tAPCS &   899875.4 &  9.649894 & 0.3033213 &  31.81410 & 4.131410e-222 & 1.270340e-218\\\\\n",
       "\\end{tabular}\n"
      ],
      "text/markdown": [
       "\n",
       "A data.frame: 6 x 6\n",
       "\n",
       "| <!--/--> | baseMean &lt;dbl&gt; | log2FoldChange &lt;dbl&gt; | lfcSE &lt;dbl&gt; | stat &lt;dbl&gt; | pvalue &lt;dbl&gt; | padj &lt;dbl&gt; |\n",
       "|---|---|---|---|---|---|---|\n",
       "| CYP2E1 |  4829888.9 |  9.360244 | 0.2152217 |  43.49116 |  0.000000e+00 |  0.000000e+00 |\n",
       "| FCGBP | 10349993.2 | -7.575787 | 0.1864329 | -40.63545 |  0.000000e+00 |  0.000000e+00 |\n",
       "| ASGR2 |   426421.7 |  8.018301 | 0.2162068 |  37.08626 | 4.678977e-301 | 2.877415e-297 |\n",
       "| GCKR |   100182.7 |  7.828413 | 0.2333762 |  33.54417 | 1.094790e-246 | 5.049446e-243 |\n",
       "| APOA5 |   438054.0 | 10.202485 | 0.3125005 |  32.64790 | 8.582274e-234 | 3.166688e-230 |\n",
       "| APCS |   899875.4 |  9.649894 | 0.3033213 |  31.81410 | 4.131410e-222 | 1.270340e-218 |\n",
       "\n"
      ],
      "text/plain": [
       "       baseMean   log2FoldChange lfcSE     stat      pvalue       \n",
       "CYP2E1  4829888.9  9.360244      0.2152217  43.49116  0.000000e+00\n",
       "FCGBP  10349993.2 -7.575787      0.1864329 -40.63545  0.000000e+00\n",
       "ASGR2    426421.7  8.018301      0.2162068  37.08626 4.678977e-301\n",
       "GCKR     100182.7  7.828413      0.2333762  33.54417 1.094790e-246\n",
       "APOA5    438054.0 10.202485      0.3125005  32.64790 8.582274e-234\n",
       "APCS     899875.4  9.649894      0.3033213  31.81410 4.131410e-222\n",
       "       padj         \n",
       "CYP2E1  0.000000e+00\n",
       "FCGBP   0.000000e+00\n",
       "ASGR2  2.877415e-297\n",
       "GCKR   5.049446e-243\n",
       "APOA5  3.166688e-230\n",
       "APCS   1.270340e-218"
      ]
     },
     "metadata": {},
     "output_type": "display_data"
    }
   ],
   "source": [
    "#shows the top results\n",
    "head(DEresults)"
   ]
  },
  {
   "cell_type": "markdown",
   "metadata": {},
   "source": [
    "#### Visualize the DE results\n",
    "plotting the MA plot"
   ]
  },
  {
   "cell_type": "code",
   "execution_count": 25,
   "metadata": {},
   "outputs": [
    {
     "data": {
      "image/png": "[encoded data removed]",
      "text/plain": [
       "Plot with title \"\""
      ]
     },
     "metadata": {
      "image/png": {
       "height": 420,
       "width": 420
      }
     },
     "output_type": "display_data"
    }
   ],
   "source": [
    "DESeq2::plotMA(object = dds, ylim = c(-5, 5))"
   ]
  },
  {
   "cell_type": "markdown",
   "metadata": {},
   "source": [
    "Plotting the distribution of p values"
   ]
  },
  {
   "cell_type": "code",
   "execution_count": 26,
   "metadata": {},
   "outputs": [
    {
     "name": "stderr",
     "output_type": "stream",
     "text": [
      "Warning message:\n",
      "\"Removed 648 rows containing non-finite values (stat_bin).\"\n"
     ]
    },
    {
     "data": {
      "image/png": "[encoded data removed]",
      "text/plain": [
       "plot without title"
      ]
     },
     "metadata": {
      "image/png": {
       "height": 420,
       "width": 420
      }
     },
     "output_type": "display_data"
    }
   ],
   "source": [
    "ggplot(data = DEresults, aes(x = pvalue)) + \n",
    "  geom_histogram(bins = 100)"
   ]
  },
  {
   "cell_type": "markdown",
   "metadata": {},
   "source": [
    "<font color='red'>**Q3: If there is no genuine differentially expressed genes, what distribution of p values do you expected to see? Is there any range of the p value matching this expectation?**</font>"
   ]
  },
  {
   "cell_type": "markdown",
   "metadata": {},
   "source": [
    "#### Check the ajusted p values\n",
    "By default, p values are are adjusted by [Benjamini-Hochberg method, i.e., FDR](https://en.wikipedia.org/wiki/False_discovery_rate)"
   ]
  },
  {
   "cell_type": "code",
   "execution_count": 27,
   "metadata": {},
   "outputs": [
    {
     "name": "stderr",
     "output_type": "stream",
     "text": [
      "Warning message:\n",
      "\"Removed 650 rows containing non-finite values (stat_bin).\"\n"
     ]
    },
    {
     "data": {
      "image/png": "[encoded data removed]",
      "text/plain": [
       "plot without title"
      ]
     },
     "metadata": {
      "image/png": {
       "height": 420,
       "width": 420
      }
     },
     "output_type": "display_data"
    }
   ],
   "source": [
    "ggplot(data = DEresults, aes(x = log10(padj/pvalue))) + \n",
    "  geom_histogram(bins = 30)"
   ]
  },
  {
   "cell_type": "markdown",
   "metadata": {},
   "source": [
    "### 3.2 Compare to likelihood ratio test\n",
    "In DESeq2, generalised linear model is used for DE gene detection, and there are two main tests to perform:\n",
    "1. Wald test (default): estimating the mean and variance of the effect size, and then calculate the p value by Gaussian distribution. Null hypothesis: effect size is zero\n",
    "2. Likelihood ratio test (taught in lecture): compare the likelihood ratio between two models: with vs without the candidate covariate, and then calculate the p value by Chi-square distribution. Null hypothesis: the likelihood between these two model are the same (or not very different)."
   ]
  },
  {
   "cell_type": "code",
   "execution_count": 28,
   "metadata": {},
   "outputs": [
    {
     "name": "stderr",
     "output_type": "stream",
     "text": [
      "found results columns, replacing these\n",
      "\n"
     ]
    }
   ],
   "source": [
    "dds_LRT <- nbinomLRT(dds, reduced=as.formula('~ 1'))"
   ]
  },
  {
   "cell_type": "code",
   "execution_count": 29,
   "metadata": {},
   "outputs": [
    {
     "data": {
      "image/png": "[encoded data removed]",
      "text/plain": [
       "plot without title"
      ]
     },
     "metadata": {
      "image/png": {
       "height": 420,
       "width": 420
      }
     },
     "output_type": "display_data"
    }
   ],
   "source": [
    "df <- data.frame(Wald_pval = rowData(dds)$WaldPvalue_group_CTRL_vs_CASE,\n",
    "                 LRT_pval = rowData(dds_LRT)$LRTPvalue)\n",
    "\n",
    "ggplot(df, aes(x = -log10(Wald_pval), y= -log10(LRT_pval))) + \n",
    "  geom_point() + geom_abline(intercept = 0, slope = 1)"
   ]
  },
  {
   "cell_type": "markdown",
   "metadata": {},
   "source": [
    "<font color='red'>**Q4: What the difference did you see by comparing the p values between these two different tests?**</font>\n",
    "\n",
    "Hints: consider sensitivity and potential false positives"
   ]
  },
  {
   "cell_type": "markdown",
   "metadata": {},
   "source": [
    "### 3.3 Multiple factors"
   ]
  },
  {
   "cell_type": "markdown",
   "metadata": {},
   "source": [
    "The original column data"
   ]
  },
  {
   "cell_type": "code",
   "execution_count": 30,
   "metadata": {},
   "outputs": [
    {
     "data": {
      "text/html": [
       "<table>\n",
       "<caption>A data.frame: 10 x 2</caption>\n",
       "<thead>\n",
       "\t<tr><th></th><th scope=col>source_name</th><th scope=col>group</th></tr>\n",
       "\t<tr><th></th><th scope=col>&lt;fct&gt;</th><th scope=col>&lt;fct&gt;</th></tr>\n",
       "</thead>\n",
       "<tbody>\n",
       "\t<tr><th scope=row>CASE_1</th><td>metastasized cancer</td><td>CASE</td></tr>\n",
       "\t<tr><th scope=row>CASE_2</th><td>metastasized cancer</td><td>CASE</td></tr>\n",
       "\t<tr><th scope=row>CASE_3</th><td>metastasized cancer</td><td>CASE</td></tr>\n",
       "\t<tr><th scope=row>CASE_4</th><td>metastasized cancer</td><td>CASE</td></tr>\n",
       "\t<tr><th scope=row>CASE_5</th><td>metastasized cancer</td><td>CASE</td></tr>\n",
       "\t<tr><th scope=row>CTRL_1</th><td>normal colon       </td><td>CTRL</td></tr>\n",
       "\t<tr><th scope=row>CTRL_2</th><td>normal colon       </td><td>CTRL</td></tr>\n",
       "\t<tr><th scope=row>CTRL_3</th><td>normal colon       </td><td>CTRL</td></tr>\n",
       "\t<tr><th scope=row>CTRL_4</th><td>normal colon       </td><td>CTRL</td></tr>\n",
       "\t<tr><th scope=row>CTRL_5</th><td>normal colon       </td><td>CTRL</td></tr>\n",
       "</tbody>\n",
       "</table>\n"
      ],
      "text/latex": [
       "A data.frame: 10 x 2\n",
       "\\begin{tabular}{r|ll}\n",
       "  & source\\_name & group\\\\\n",
       "  & <fct> & <fct>\\\\\n",
       "\\hline\n",
       "\tCASE\\_1 & metastasized cancer & CASE\\\\\n",
       "\tCASE\\_2 & metastasized cancer & CASE\\\\\n",
       "\tCASE\\_3 & metastasized cancer & CASE\\\\\n",
       "\tCASE\\_4 & metastasized cancer & CASE\\\\\n",
       "\tCASE\\_5 & metastasized cancer & CASE\\\\\n",
       "\tCTRL\\_1 & normal colon        & CTRL\\\\\n",
       "\tCTRL\\_2 & normal colon        & CTRL\\\\\n",
       "\tCTRL\\_3 & normal colon        & CTRL\\\\\n",
       "\tCTRL\\_4 & normal colon        & CTRL\\\\\n",
       "\tCTRL\\_5 & normal colon        & CTRL\\\\\n",
       "\\end{tabular}\n"
      ],
      "text/markdown": [
       "\n",
       "A data.frame: 10 x 2\n",
       "\n",
       "| <!--/--> | source_name &lt;fct&gt; | group &lt;fct&gt; |\n",
       "|---|---|---|\n",
       "| CASE_1 | metastasized cancer | CASE |\n",
       "| CASE_2 | metastasized cancer | CASE |\n",
       "| CASE_3 | metastasized cancer | CASE |\n",
       "| CASE_4 | metastasized cancer | CASE |\n",
       "| CASE_5 | metastasized cancer | CASE |\n",
       "| CTRL_1 | normal colon        | CTRL |\n",
       "| CTRL_2 | normal colon        | CTRL |\n",
       "| CTRL_3 | normal colon        | CTRL |\n",
       "| CTRL_4 | normal colon        | CTRL |\n",
       "| CTRL_5 | normal colon        | CTRL |\n",
       "\n"
      ],
      "text/plain": [
       "       source_name         group\n",
       "CASE_1 metastasized cancer CASE \n",
       "CASE_2 metastasized cancer CASE \n",
       "CASE_3 metastasized cancer CASE \n",
       "CASE_4 metastasized cancer CASE \n",
       "CASE_5 metastasized cancer CASE \n",
       "CTRL_1 normal colon        CTRL \n",
       "CTRL_2 normal colon        CTRL \n",
       "CTRL_3 normal colon        CTRL \n",
       "CTRL_4 normal colon        CTRL \n",
       "CTRL_5 normal colon        CTRL "
      ]
     },
     "metadata": {},
     "output_type": "display_data"
    }
   ],
   "source": [
    "col_data"
   ]
  },
  {
   "cell_type": "markdown",
   "metadata": {},
   "source": [
    "#### Additional factor\n",
    "As an illustration, we introduce an madeup factor. We assume that the CASE_1, CASE_2 and CTRL_1, CTRL_2 are one setting, e.g., (paired-end), and the other based on another setting, e.g., (single-end). \n",
    "\n",
    "Now we want to consider the variations that comes from this additional factor, and how it affects the differential expression between normal and cancer"
   ]
  },
  {
   "cell_type": "code",
   "execution_count": 31,
   "metadata": {},
   "outputs": [
    {
     "data": {
      "text/html": [
       "<table>\n",
       "<caption>A data.frame: 10 x 3</caption>\n",
       "<thead>\n",
       "\t<tr><th></th><th scope=col>source_name</th><th scope=col>group</th><th scope=col>type</th></tr>\n",
       "\t<tr><th></th><th scope=col>&lt;fct&gt;</th><th scope=col>&lt;fct&gt;</th><th scope=col>&lt;dbl&gt;</th></tr>\n",
       "</thead>\n",
       "<tbody>\n",
       "\t<tr><th scope=row>CASE_1</th><td>metastasized cancer</td><td>CASE</td><td>1</td></tr>\n",
       "\t<tr><th scope=row>CASE_2</th><td>metastasized cancer</td><td>CASE</td><td>1</td></tr>\n",
       "\t<tr><th scope=row>CASE_3</th><td>metastasized cancer</td><td>CASE</td><td>0</td></tr>\n",
       "\t<tr><th scope=row>CASE_4</th><td>metastasized cancer</td><td>CASE</td><td>0</td></tr>\n",
       "\t<tr><th scope=row>CASE_5</th><td>metastasized cancer</td><td>CASE</td><td>0</td></tr>\n",
       "\t<tr><th scope=row>CTRL_1</th><td>normal colon       </td><td>CTRL</td><td>1</td></tr>\n",
       "\t<tr><th scope=row>CTRL_2</th><td>normal colon       </td><td>CTRL</td><td>1</td></tr>\n",
       "\t<tr><th scope=row>CTRL_3</th><td>normal colon       </td><td>CTRL</td><td>0</td></tr>\n",
       "\t<tr><th scope=row>CTRL_4</th><td>normal colon       </td><td>CTRL</td><td>0</td></tr>\n",
       "\t<tr><th scope=row>CTRL_5</th><td>normal colon       </td><td>CTRL</td><td>0</td></tr>\n",
       "</tbody>\n",
       "</table>\n"
      ],
      "text/latex": [
       "A data.frame: 10 x 3\n",
       "\\begin{tabular}{r|lll}\n",
       "  & source\\_name & group & type\\\\\n",
       "  & <fct> & <fct> & <dbl>\\\\\n",
       "\\hline\n",
       "\tCASE\\_1 & metastasized cancer & CASE & 1\\\\\n",
       "\tCASE\\_2 & metastasized cancer & CASE & 1\\\\\n",
       "\tCASE\\_3 & metastasized cancer & CASE & 0\\\\\n",
       "\tCASE\\_4 & metastasized cancer & CASE & 0\\\\\n",
       "\tCASE\\_5 & metastasized cancer & CASE & 0\\\\\n",
       "\tCTRL\\_1 & normal colon        & CTRL & 1\\\\\n",
       "\tCTRL\\_2 & normal colon        & CTRL & 1\\\\\n",
       "\tCTRL\\_3 & normal colon        & CTRL & 0\\\\\n",
       "\tCTRL\\_4 & normal colon        & CTRL & 0\\\\\n",
       "\tCTRL\\_5 & normal colon        & CTRL & 0\\\\\n",
       "\\end{tabular}\n"
      ],
      "text/markdown": [
       "\n",
       "A data.frame: 10 x 3\n",
       "\n",
       "| <!--/--> | source_name &lt;fct&gt; | group &lt;fct&gt; | type &lt;dbl&gt; |\n",
       "|---|---|---|---|\n",
       "| CASE_1 | metastasized cancer | CASE | 1 |\n",
       "| CASE_2 | metastasized cancer | CASE | 1 |\n",
       "| CASE_3 | metastasized cancer | CASE | 0 |\n",
       "| CASE_4 | metastasized cancer | CASE | 0 |\n",
       "| CASE_5 | metastasized cancer | CASE | 0 |\n",
       "| CTRL_1 | normal colon        | CTRL | 1 |\n",
       "| CTRL_2 | normal colon        | CTRL | 1 |\n",
       "| CTRL_3 | normal colon        | CTRL | 0 |\n",
       "| CTRL_4 | normal colon        | CTRL | 0 |\n",
       "| CTRL_5 | normal colon        | CTRL | 0 |\n",
       "\n"
      ],
      "text/plain": [
       "       source_name         group type\n",
       "CASE_1 metastasized cancer CASE  1   \n",
       "CASE_2 metastasized cancer CASE  1   \n",
       "CASE_3 metastasized cancer CASE  0   \n",
       "CASE_4 metastasized cancer CASE  0   \n",
       "CASE_5 metastasized cancer CASE  0   \n",
       "CTRL_1 normal colon        CTRL  1   \n",
       "CTRL_2 normal colon        CTRL  1   \n",
       "CTRL_3 normal colon        CTRL  0   \n",
       "CTRL_4 normal colon        CTRL  0   \n",
       "CTRL_5 normal colon        CTRL  0   "
      ]
     },
     "metadata": {},
     "output_type": "display_data"
    }
   ],
   "source": [
    "col_data_2f <- col_data\n",
    "col_data_2f$type <- c(1, 1, 0, 0, 0, 1, 1, 0, 0, 0)\n",
    "col_data_2f"
   ]
  },
  {
   "cell_type": "code",
   "execution_count": 32,
   "metadata": {},
   "outputs": [
    {
     "name": "stderr",
     "output_type": "stream",
     "text": [
      "converting counts to integer mode\n",
      "\n",
      "  the design formula contains one or more numeric variables with integer values,\n",
      "  specifying a model with increasing fold change for higher values.\n",
      "  did you mean for this to be a factor? if so, first convert\n",
      "  this variable to a factor using the factor() function\n",
      "\n"
     ]
    },
    {
     "name": "stdout",
     "output_type": "stream",
     "text": [
      "class: DESeqDataSet \n",
      "dim: 19097 10 \n",
      "metadata(1): version\n",
      "assays(1): counts\n",
      "rownames(19097): TSPAN6 TNMD ... MYOCOS HSFX3\n",
      "rowData names(0):\n",
      "colnames(10): CASE_1 CASE_2 ... CTRL_4 CTRL_5\n",
      "colData names(3): source_name group type\n"
     ]
    }
   ],
   "source": [
    "#define the design formula\n",
    "designFormula <- \"~ group + type\"\n",
    "\n",
    "#create a DESeq dataset object from the count matrix and the colData \n",
    "ddsTwoFactor <- DESeqDataSetFromMatrix(countData = counts[, 1:10], \n",
    "                                       colData = col_data_2f, \n",
    "                                       design = as.formula(designFormula))\n",
    "                              \n",
    "# Remove unexpressed genes\n",
    "ddsTwoFactor <- ddsTwoFactor[ rowSums(ddsTwoFactor@assays@data$counts) > 1, ]\n",
    "\n",
    "#print dds object to see the contents\n",
    "print(ddsTwoFactor)"
   ]
  },
  {
   "cell_type": "code",
   "execution_count": 33,
   "metadata": {},
   "outputs": [
    {
     "name": "stderr",
     "output_type": "stream",
     "text": [
      "estimating size factors\n",
      "\n",
      "estimating dispersions\n",
      "\n",
      "gene-wise dispersion estimates\n",
      "\n",
      "mean-dispersion relationship\n",
      "\n",
      "final dispersion estimates\n",
      "\n",
      "fitting model and testing\n",
      "\n"
     ]
    }
   ],
   "source": [
    "ddsTwoFactor <- DESeq(ddsTwoFactor)"
   ]
  },
  {
   "cell_type": "code",
   "execution_count": 34,
   "metadata": {},
   "outputs": [
    {
     "name": "stderr",
     "output_type": "stream",
     "text": [
      "found results columns, replacing these\n",
      "\n"
     ]
    }
   ],
   "source": [
    "ddsTwoFactor_LRT <- nbinomLRT(ddsTwoFactor, reduced=as.formula('~ type'))"
   ]
  },
  {
   "cell_type": "code",
   "execution_count": 35,
   "metadata": {},
   "outputs": [
    {
     "data": {
      "image/png": "[encoded data removed]",
      "text/plain": [
       "plot without title"
      ]
     },
     "metadata": {
      "image/png": {
       "height": 420,
       "width": 420
      }
     },
     "output_type": "display_data"
    }
   ],
   "source": [
    "df <- data.frame(One_factor_pval = rowData(dds_LRT)$LRTPvalue,\n",
    "                 Two_factor_pval = rowData(ddsTwoFactor_LRT)$LRTPvalue)\n",
    "\n",
    "ggplot(df, aes(x = -log10(One_factor_pval), y= -log10(Two_factor_pval))) + \n",
    "  geom_point() + geom_abline(intercept = 0, slope = 1)"
   ]
  },
  {
   "cell_type": "markdown",
   "metadata": {},
   "source": [
    "<font color='red'>**Q5: What is the difference between p values when considering additional variable? What is the possible reason?**</font>\n",
    "\n",
    "Hints: consider the source of the variations"
   ]
  },
  {
   "cell_type": "markdown",
   "metadata": {},
   "source": [
    "## 4. Gene set analysis (this section is optional)"
   ]
  },
  {
   "cell_type": "markdown",
   "metadata": {},
   "source": [
    "### Get DE genes"
   ]
  },
  {
   "cell_type": "code",
   "execution_count": 36,
   "metadata": {},
   "outputs": [],
   "source": [
    "#compute the contrast for the 'group' variable where 'CTRL' \n",
    "#samples are used as the control group. \n",
    "\n",
    "DE_res = results(dds_LRT, contrast = c(\"group\", 'CASE', 'CTRL'))\n",
    "\n",
    "#sort results by increasing p-value\n",
    "DE_res <- as.data.frame(DE_res[order(DE_res$pvalue), ])"
   ]
  },
  {
   "cell_type": "code",
   "execution_count": 37,
   "metadata": {},
   "outputs": [],
   "source": [
    "#remove genes with NA values \n",
    "DE_genes <- DE_res[!is.na(DE_res$padj), ]\n",
    "\n",
    "#select genes with adjusted p-values below 0.1\n",
    "DE_genes <- DE_genes[DE_genes$padj < 0.05, ]\n",
    "\n",
    "#select genes with absolute log2 fold change above 1 (two-fold change)\n",
    "DE_genes <- DE_genes[abs(DE_genes$log2FoldChange) > 1, ]"
   ]
  },
  {
   "cell_type": "code",
   "execution_count": 38,
   "metadata": {},
   "outputs": [
    {
     "data": {
      "text/html": [
       "<table>\n",
       "<caption>A data.frame: 6 x 6</caption>\n",
       "<thead>\n",
       "\t<tr><th></th><th scope=col>baseMean</th><th scope=col>log2FoldChange</th><th scope=col>lfcSE</th><th scope=col>stat</th><th scope=col>pvalue</th><th scope=col>padj</th></tr>\n",
       "\t<tr><th></th><th scope=col>&lt;dbl&gt;</th><th scope=col>&lt;dbl&gt;</th><th scope=col>&lt;dbl&gt;</th><th scope=col>&lt;dbl&gt;</th><th scope=col>&lt;dbl&gt;</th><th scope=col>&lt;dbl&gt;</th></tr>\n",
       "</thead>\n",
       "<tbody>\n",
       "\t<tr><th scope=row>FCGBP</th><td>10349993.2</td><td>-7.575787</td><td>0.1864329</td><td>928.3288</td><td>6.816856e-204</td><td>1.257642e-199</td></tr>\n",
       "\t<tr><th scope=row>CYP2E1</th><td> 4829888.9</td><td> 9.360244</td><td>0.2152217</td><td>918.0329</td><td>1.179584e-201</td><td>1.088107e-197</td></tr>\n",
       "\t<tr><th scope=row>ASGR2</th><td>  426421.7</td><td> 8.018301</td><td>0.2162068</td><td>746.1100</td><td>2.813373e-164</td><td>1.730131e-160</td></tr>\n",
       "\t<tr><th scope=row>PRG4</th><td>  166224.9</td><td> 5.283507</td><td>0.1694583</td><td>675.4034</td><td>6.676386e-149</td><td>3.079316e-145</td></tr>\n",
       "\t<tr><th scope=row>GCKR</th><td>  100182.7</td><td> 7.828413</td><td>0.2333762</td><td>623.6666</td><td>1.192012e-137</td><td>4.398286e-134</td></tr>\n",
       "\t<tr><th scope=row>ZG16</th><td> 2122231.5</td><td>-6.974906</td><td>0.2258976</td><td>565.2704</td><td>5.999916e-125</td><td>1.844874e-121</td></tr>\n",
       "</tbody>\n",
       "</table>\n"
      ],
      "text/latex": [
       "A data.frame: 6 x 6\n",
       "\\begin{tabular}{r|llllll}\n",
       "  & baseMean & log2FoldChange & lfcSE & stat & pvalue & padj\\\\\n",
       "  & <dbl> & <dbl> & <dbl> & <dbl> & <dbl> & <dbl>\\\\\n",
       "\\hline\n",
       "\tFCGBP & 10349993.2 & -7.575787 & 0.1864329 & 928.3288 & 6.816856e-204 & 1.257642e-199\\\\\n",
       "\tCYP2E1 &  4829888.9 &  9.360244 & 0.2152217 & 918.0329 & 1.179584e-201 & 1.088107e-197\\\\\n",
       "\tASGR2 &   426421.7 &  8.018301 & 0.2162068 & 746.1100 & 2.813373e-164 & 1.730131e-160\\\\\n",
       "\tPRG4 &   166224.9 &  5.283507 & 0.1694583 & 675.4034 & 6.676386e-149 & 3.079316e-145\\\\\n",
       "\tGCKR &   100182.7 &  7.828413 & 0.2333762 & 623.6666 & 1.192012e-137 & 4.398286e-134\\\\\n",
       "\tZG16 &  2122231.5 & -6.974906 & 0.2258976 & 565.2704 & 5.999916e-125 & 1.844874e-121\\\\\n",
       "\\end{tabular}\n"
      ],
      "text/markdown": [
       "\n",
       "A data.frame: 6 x 6\n",
       "\n",
       "| <!--/--> | baseMean &lt;dbl&gt; | log2FoldChange &lt;dbl&gt; | lfcSE &lt;dbl&gt; | stat &lt;dbl&gt; | pvalue &lt;dbl&gt; | padj &lt;dbl&gt; |\n",
       "|---|---|---|---|---|---|---|\n",
       "| FCGBP | 10349993.2 | -7.575787 | 0.1864329 | 928.3288 | 6.816856e-204 | 1.257642e-199 |\n",
       "| CYP2E1 |  4829888.9 |  9.360244 | 0.2152217 | 918.0329 | 1.179584e-201 | 1.088107e-197 |\n",
       "| ASGR2 |   426421.7 |  8.018301 | 0.2162068 | 746.1100 | 2.813373e-164 | 1.730131e-160 |\n",
       "| PRG4 |   166224.9 |  5.283507 | 0.1694583 | 675.4034 | 6.676386e-149 | 3.079316e-145 |\n",
       "| GCKR |   100182.7 |  7.828413 | 0.2333762 | 623.6666 | 1.192012e-137 | 4.398286e-134 |\n",
       "| ZG16 |  2122231.5 | -6.974906 | 0.2258976 | 565.2704 | 5.999916e-125 | 1.844874e-121 |\n",
       "\n"
      ],
      "text/plain": [
       "       baseMean   log2FoldChange lfcSE     stat     pvalue        padj         \n",
       "FCGBP  10349993.2 -7.575787      0.1864329 928.3288 6.816856e-204 1.257642e-199\n",
       "CYP2E1  4829888.9  9.360244      0.2152217 918.0329 1.179584e-201 1.088107e-197\n",
       "ASGR2    426421.7  8.018301      0.2162068 746.1100 2.813373e-164 1.730131e-160\n",
       "PRG4     166224.9  5.283507      0.1694583 675.4034 6.676386e-149 3.079316e-145\n",
       "GCKR     100182.7  7.828413      0.2333762 623.6666 1.192012e-137 4.398286e-134\n",
       "ZG16    2122231.5 -6.974906      0.2258976 565.2704 5.999916e-125 1.844874e-121"
      ]
     },
     "metadata": {},
     "output_type": "display_data"
    },
    {
     "data": {
      "text/html": [
       "<style>\n",
       ".list-inline {list-style: none; margin:0; padding: 0}\n",
       ".list-inline>li {display: inline-block}\n",
       ".list-inline>li:not(:last-child)::after {content: \"\\00b7\"; padding: 0 .5ex}\n",
       "</style>\n",
       "<ol class=list-inline><li>3885</li><li>6</li></ol>\n"
      ],
      "text/latex": [
       "\\begin{enumerate*}\n",
       "\\item 3885\n",
       "\\item 6\n",
       "\\end{enumerate*}\n"
      ],
      "text/markdown": [
       "1. 3885\n",
       "2. 6\n",
       "\n",
       "\n"
      ],
      "text/plain": [
       "[1] 3885    6"
      ]
     },
     "metadata": {},
     "output_type": "display_data"
    }
   ],
   "source": [
    "head(DE_genes)\n",
    "dim(DE_genes)"
   ]
  },
  {
   "cell_type": "markdown",
   "metadata": {},
   "source": [
    "### GO enrichment analysis\n",
    "\n",
    "In a typical differential expression analysis, thousands of genes are found differentially expressed between two groups of samples. Besides exploring individual gens, we can also calculate the overlap between DE genes and annotated gene sets for function assocation, e.g., Gene Ontology (GO) terms.\n",
    "\n",
    "You could copy the above 3885 DE genes into the web server, e.g., [GO website](http://geneontology.org) or [David web server](https://david.ncifcrf.gov/).\n",
    "\n",
    "Here, we show how to use R package `gProfileR` to perform this overlap enrichment analyis."
   ]
  },
  {
   "cell_type": "code",
   "execution_count": 39,
   "metadata": {},
   "outputs": [
    {
     "name": "stderr",
     "output_type": "stream",
     "text": [
      "Updating HTML index of packages in '.Library'\n",
      "\n",
      "Making 'packages.html' ...\n",
      " done\n",
      "\n"
     ]
    }
   ],
   "source": [
    "# Only need install once\n",
    "\n",
    "install.packages('gProfileR')"
   ]
  },
  {
   "cell_type": "code",
   "execution_count": 40,
   "metadata": {},
   "outputs": [],
   "source": [
    "library(gProfileR)"
   ]
  },
  {
   "cell_type": "code",
   "execution_count": 41,
   "metadata": {},
   "outputs": [
    {
     "name": "stderr",
     "output_type": "stream",
     "text": [
      "Warning message:\n",
      "\"Please consider using the new package \"gprofiler2\". At the moment you are using a deprecated package relying on outdated data.\n",
      "  More information at https://biit.cs.ut.ee/gprofiler/page/r-new. Feel free to contact us at biit.support@ut.ee for further help.\"\n"
     ]
    }
   ],
   "source": [
    "#get the list of genes of interest\n",
    "genesOfInterest <- rownames(DE_genes)\n",
    "\n",
    "#calculate enriched GO terms\n",
    "goResults <- gprofiler(query = genesOfInterest, \n",
    "                     organism = 'hsapiens', \n",
    "                     src_filter = 'GO', \n",
    "                     hier_filtering = 'moderate')"
   ]
  },
  {
   "cell_type": "code",
   "execution_count": 42,
   "metadata": {},
   "outputs": [
    {
     "data": {
      "text/html": [
       "<table>\n",
       "<caption>A data.frame: 10 x 5</caption>\n",
       "<thead>\n",
       "\t<tr><th></th><th scope=col>p.value</th><th scope=col>term.size</th><th scope=col>query.size</th><th scope=col>overlap.size</th><th scope=col>term.name</th></tr>\n",
       "\t<tr><th></th><th scope=col>&lt;dbl&gt;</th><th scope=col>&lt;int&gt;</th><th scope=col>&lt;int&gt;</th><th scope=col>&lt;int&gt;</th><th scope=col>&lt;chr&gt;</th></tr>\n",
       "</thead>\n",
       "<tbody>\n",
       "\t<tr><th scope=row>40</th><td>5.54e-57</td><td>2740</td><td>3755</td><td>858</td><td>plasma membrane part                </td></tr>\n",
       "\t<tr><th scope=row>10</th><td>2.61e-35</td><td>3656</td><td>3755</td><td>993</td><td>regulation of biological quality    </td></tr>\n",
       "\t<tr><th scope=row>4</th><td>3.33e-28</td><td>1073</td><td>3755</td><td>364</td><td>organic acid metabolic process      </td></tr>\n",
       "\t<tr><th scope=row>28</th><td>2.06e-25</td><td> 385</td><td>3755</td><td>169</td><td>extracellular structure organization</td></tr>\n",
       "\t<tr><th scope=row>64</th><td>3.86e-19</td><td>1251</td><td>3755</td><td>380</td><td>transporter activity                </td></tr>\n",
       "\t<tr><th scope=row>29</th><td>4.96e-19</td><td>1399</td><td>3755</td><td>415</td><td>lipid metabolic process             </td></tr>\n",
       "\t<tr><th scope=row>49</th><td>1.67e-17</td><td> 371</td><td>3755</td><td>149</td><td>apical part of cell                 </td></tr>\n",
       "\t<tr><th scope=row>8</th><td>4.14e-16</td><td>3447</td><td>3755</td><td>858</td><td>regulation of cell communication    </td></tr>\n",
       "\t<tr><th scope=row>42</th><td>4.88e-16</td><td>3788</td><td>3755</td><td>930</td><td>vesicle                             </td></tr>\n",
       "\t<tr><th scope=row>39</th><td>6.89e-16</td><td> 770</td><td>3755</td><td>251</td><td>cell surface                        </td></tr>\n",
       "</tbody>\n",
       "</table>\n"
      ],
      "text/latex": [
       "A data.frame: 10 x 5\n",
       "\\begin{tabular}{r|lllll}\n",
       "  & p.value & term.size & query.size & overlap.size & term.name\\\\\n",
       "  & <dbl> & <int> & <int> & <int> & <chr>\\\\\n",
       "\\hline\n",
       "\t40 & 5.54e-57 & 2740 & 3755 & 858 & plasma membrane part                \\\\\n",
       "\t10 & 2.61e-35 & 3656 & 3755 & 993 & regulation of biological quality    \\\\\n",
       "\t4 & 3.33e-28 & 1073 & 3755 & 364 & organic acid metabolic process      \\\\\n",
       "\t28 & 2.06e-25 &  385 & 3755 & 169 & extracellular structure organization\\\\\n",
       "\t64 & 3.86e-19 & 1251 & 3755 & 380 & transporter activity                \\\\\n",
       "\t29 & 4.96e-19 & 1399 & 3755 & 415 & lipid metabolic process             \\\\\n",
       "\t49 & 1.67e-17 &  371 & 3755 & 149 & apical part of cell                 \\\\\n",
       "\t8 & 4.14e-16 & 3447 & 3755 & 858 & regulation of cell communication    \\\\\n",
       "\t42 & 4.88e-16 & 3788 & 3755 & 930 & vesicle                             \\\\\n",
       "\t39 & 6.89e-16 &  770 & 3755 & 251 & cell surface                        \\\\\n",
       "\\end{tabular}\n"
      ],
      "text/markdown": [
       "\n",
       "A data.frame: 10 x 5\n",
       "\n",
       "| <!--/--> | p.value &lt;dbl&gt; | term.size &lt;int&gt; | query.size &lt;int&gt; | overlap.size &lt;int&gt; | term.name &lt;chr&gt; |\n",
       "|---|---|---|---|---|---|\n",
       "| 40 | 5.54e-57 | 2740 | 3755 | 858 | plasma membrane part                 |\n",
       "| 10 | 2.61e-35 | 3656 | 3755 | 993 | regulation of biological quality     |\n",
       "| 4 | 3.33e-28 | 1073 | 3755 | 364 | organic acid metabolic process       |\n",
       "| 28 | 2.06e-25 |  385 | 3755 | 169 | extracellular structure organization |\n",
       "| 64 | 3.86e-19 | 1251 | 3755 | 380 | transporter activity                 |\n",
       "| 29 | 4.96e-19 | 1399 | 3755 | 415 | lipid metabolic process              |\n",
       "| 49 | 1.67e-17 |  371 | 3755 | 149 | apical part of cell                  |\n",
       "| 8 | 4.14e-16 | 3447 | 3755 | 858 | regulation of cell communication     |\n",
       "| 42 | 4.88e-16 | 3788 | 3755 | 930 | vesicle                              |\n",
       "| 39 | 6.89e-16 |  770 | 3755 | 251 | cell surface                         |\n",
       "\n"
      ],
      "text/plain": [
       "   p.value  term.size query.size overlap.size\n",
       "40 5.54e-57 2740      3755       858         \n",
       "10 2.61e-35 3656      3755       993         \n",
       "4  3.33e-28 1073      3755       364         \n",
       "28 2.06e-25  385      3755       169         \n",
       "64 3.86e-19 1251      3755       380         \n",
       "29 4.96e-19 1399      3755       415         \n",
       "49 1.67e-17  371      3755       149         \n",
       "8  4.14e-16 3447      3755       858         \n",
       "42 4.88e-16 3788      3755       930         \n",
       "39 6.89e-16  770      3755       251         \n",
       "   term.name                           \n",
       "40 plasma membrane part                \n",
       "10 regulation of biological quality    \n",
       "4  organic acid metabolic process      \n",
       "28 extracellular structure organization\n",
       "64 transporter activity                \n",
       "29 lipid metabolic process             \n",
       "49 apical part of cell                 \n",
       "8  regulation of cell communication    \n",
       "42 vesicle                             \n",
       "39 cell surface                        "
      ]
     },
     "metadata": {},
     "output_type": "display_data"
    }
   ],
   "source": [
    "col_show <- c('p.value', 'term.size', 'query.size', 'overlap.size', 'term.name')\n",
    "head(goResults[order(goResults$p.value), col_show], 10)"
   ]
  },
  {
   "cell_type": "code",
   "execution_count": null,
   "metadata": {},
   "outputs": [],
   "source": []
  }
 ],
 "metadata": {
  "colab": {
   "name": "Assignment1-BBMS3009.ipynb",
   "provenance": []
  },
  "kernelspec": {
   "display_name": "R",
   "language": "R",
   "name": "ir"
  },
  "language_info": {
   "codemirror_mode": "r",
   "file_extension": ".r",
   "mimetype": "text/x-r-source",
   "name": "R",
   "pygments_lexer": "r",
   "version": "3.6.3"
  }
 },
 "nbformat": 4,
 "nbformat_minor": 4
}
